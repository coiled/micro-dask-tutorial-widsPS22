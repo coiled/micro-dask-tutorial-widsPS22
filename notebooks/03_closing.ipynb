{
 "cells": [
  {
   "cell_type": "markdown",
   "id": "b1dfda0e-7dfe-47aa-9a34-a967f1fdc69d",
   "metadata": {},
   "source": [
    "<center>\n",
    "  <img src=\"https://raw.githubusercontent.com/dask/marketing/main/source/images/dask-horizontal.svg\" alt=\"Dask logo\" width=55%/>\n",
    "</center>\n",
    "\n",
    "# Key Takeaways\n",
    "\n",
    "__Don't use Dask if you don't need to!__\n",
    "Distributed computing brings a lot of additional complexity into the mix and will incur overhead. If your dataset and computations fit comfortably within your local resources this overhead may be larger than the potential performance gain. In that case, stick with non-distributed libraries like pandas, numpy and scikit-learn.\n",
    "\n",
    "## What is Dask?\n",
    "\n",
    "Dask is a flexible, open source library for parallel computing in Python that:\n",
    "\n",
    "- Enables larger-than-memory computations.\n",
    "- Uses familiar APIs from projects like NumPy, pandas, and scikit-learn.\n",
    "- Offers built-in diagnosic tools.\n",
    "- Integrates natively with Python, benefiting from the guidance and influence of the larger developer community.\n",
    "- Works on your laptop and scales to many machines in a cluster (see [the docs on deploying Dask clusters](https://docs.dask.org/en/stable/deploying.html)).\n",
    "- Supports complex applications beyond embarrassingly parallel and map-shuffle-reduce computations\n",
    "- Has an active, welcoming community!\n",
    "\n",
    "## FAQs (and answers) from the field\n",
    "1) *When should I use Dask Delayed with other collections?*\n",
    "    - When possible, it's best to use functionality that already exists within a given collection. Not all equivalent methods have been implemented in Dask yet, though, so each collection has a built-in \"escape hatch\". For Dask DataFrame, this is `map_partitions` and for Dask Array, this is `map_blocks`. This is often the better path than reaching for Delayed first (see [this answer](https://dask.discourse.group/t/appropriate-way-of-np-apply-along-axis-in-dask/168/4) on Dask Discourse for more details).\n",
    "3) For the Dask DataFrame collection:\n",
    "    - *How should I be using `split_out` and `split_every`?* See [this reply](https://dask.discourse.group/t/doubts-related-dask-dataframe/297/2) on the Dask Discourse.\n",
    "    - *When should I repartition my dataset?* See [this answer](https://dask.discourse.group/t/when-to-repartition-if-the-data-is-not-computed/100/5) on the Dask Discourse\n",
    "3) *When should I use Dask Delayed vs. Futures?*\n",
    "    - The short answer (see [this reply](https://dask.discourse.group/t/different-scheduling-for-dask-delayed-and-dask-futures/545/2) on Dask Discourse) is that Futures is bundled with the [Distributed scheduler](https://distributed.dask.org/en/stable/) and gives finer control over some aspects of distributed computations, whereas Delayed is best suited for single-machine threaded computations. There is nuance in this discussion, though, see [this reply](https://dask.discourse.group/t/documentation-on-the-interplay-between-graphs-and-futures/269/2) on the Dask Discourse for more background.\n",
    "\n",
    "## Join us!\n",
    "\n",
    "The Dask community is incredibly welcoming, especially to new contributors. Looking to join the open source development community? Check out [these development guidelines](https://docs.dask.org/en/latest/develop.html#development-guidelines) and [this tutorial](https://youtu.be/eAIYrnguV8c) on how to get started in open source. Want to showcase a project you're working on using Dask? Share it on the [Dask Discourse](https://dask.discourse.group/c/showcase/13)!\n",
    "\n",
    "And, taking my Dask hat off... **[Coiled is hiring](https://coiled.io/careers/)!** Feel free to reach out to me directly if you have any questions."
   ]
  },
  {
   "cell_type": "code",
   "execution_count": null,
   "id": "b1c40407-022f-4978-b8f9-3e49a63c1006",
   "metadata": {},
   "outputs": [],
   "source": []
  }
 ],
 "metadata": {
  "kernelspec": {
   "display_name": "Python 3 (ipykernel)",
   "language": "python",
   "name": "python3"
  },
  "language_info": {
   "codemirror_mode": {
    "name": "ipython",
    "version": 3
   },
   "file_extension": ".py",
   "mimetype": "text/x-python",
   "name": "python",
   "nbconvert_exporter": "python",
   "pygments_lexer": "ipython3",
   "version": "3.9.7"
  }
 },
 "nbformat": 4,
 "nbformat_minor": 5
}
