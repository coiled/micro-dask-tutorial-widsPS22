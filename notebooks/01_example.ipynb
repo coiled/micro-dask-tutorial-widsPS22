{
 "cells": [
  {
   "cell_type": "code",
   "execution_count": 1,
   "id": "93898899-b3ea-4001-93a5-6960880d6990",
   "metadata": {},
   "outputs": [],
   "source": [
    "import os\n",
    "import math\n",
    "import pandas as pd\n",
    "import numpy as np\n",
    "from sodapy import Socrata\n",
    "import dask\n",
    "import dask.bag as db\n",
    "import dask.dataframe as dd\n",
    "from dask.distributed import Client, LocalCluster\n",
    "import pyarrow as pa\n",
    "\n",
    "socrata_token = os.environ.get(\"SODAPY_APPTOKEN\")"
   ]
  },
  {
   "cell_type": "markdown",
   "id": "df459969-581f-4567-abd8-86976df669b1",
   "metadata": {},
   "source": [
    "We'll start by creating a cluster locally, from the resources available on your computer."
   ]
  },
  {
   "cell_type": "code",
   "execution_count": 2,
   "id": "da41e003-6782-41d8-a67e-5609a0220217",
   "metadata": {},
   "outputs": [],
   "source": [
    "# from dask.distributed import Client, LocalCluster\n",
    "cluster = LocalCluster(n_workers=4)\n",
    "client = Client(cluster)"
   ]
  },
  {
   "cell_type": "code",
   "execution_count": 3,
   "id": "2bec2cbb-0a01-4506-9a7a-59913ba7d8ea",
   "metadata": {},
   "outputs": [
    {
     "data": {
      "text/html": [
       "<div>\n",
       "    <div style=\"width: 24px; height: 24px; background-color: #e1e1e1; border: 3px solid #9D9D9D; border-radius: 5px; position: absolute;\"> </div>\n",
       "    <div style=\"margin-left: 48px;\">\n",
       "        <h3 style=\"margin-bottom: 0px;\">Client</h3>\n",
       "        <p style=\"color: #9D9D9D; margin-bottom: 0px;\">Client-408a1454-c57d-11ec-b86b-92492cdc1fe8</p>\n",
       "        <table style=\"width: 100%; text-align: left;\">\n",
       "\n",
       "        <tr>\n",
       "        \n",
       "            <td style=\"text-align: left;\"><strong>Connection method:</strong> Cluster object</td>\n",
       "            <td style=\"text-align: left;\"><strong>Cluster type:</strong> distributed.LocalCluster</td>\n",
       "        \n",
       "        </tr>\n",
       "\n",
       "        \n",
       "            <tr>\n",
       "                <td style=\"text-align: left;\">\n",
       "                    <strong>Dashboard: </strong> <a href=\"http://127.0.0.1:8787/status\" target=\"_blank\">http://127.0.0.1:8787/status</a>\n",
       "                </td>\n",
       "                <td style=\"text-align: left;\"></td>\n",
       "            </tr>\n",
       "        \n",
       "\n",
       "        </table>\n",
       "\n",
       "        \n",
       "            <details>\n",
       "            <summary style=\"margin-bottom: 20px;\"><h3 style=\"display: inline;\">Cluster Info</h3></summary>\n",
       "            <div class=\"jp-RenderedHTMLCommon jp-RenderedHTML jp-mod-trusted jp-OutputArea-output\">\n",
       "    <div style=\"width: 24px; height: 24px; background-color: #e1e1e1; border: 3px solid #9D9D9D; border-radius: 5px; position: absolute;\">\n",
       "    </div>\n",
       "    <div style=\"margin-left: 48px;\">\n",
       "        <h3 style=\"margin-bottom: 0px; margin-top: 0px;\">LocalCluster</h3>\n",
       "        <p style=\"color: #9D9D9D; margin-bottom: 0px;\">4d9a1022</p>\n",
       "        <table style=\"width: 100%; text-align: left;\">\n",
       "            <tr>\n",
       "                <td style=\"text-align: left;\">\n",
       "                    <strong>Dashboard:</strong> <a href=\"http://127.0.0.1:8787/status\" target=\"_blank\">http://127.0.0.1:8787/status</a>\n",
       "                </td>\n",
       "                <td style=\"text-align: left;\">\n",
       "                    <strong>Workers:</strong> 4\n",
       "                </td>\n",
       "            </tr>\n",
       "            <tr>\n",
       "                <td style=\"text-align: left;\">\n",
       "                    <strong>Total threads:</strong> 8\n",
       "                </td>\n",
       "                <td style=\"text-align: left;\">\n",
       "                    <strong>Total memory:</strong> 16.00 GiB\n",
       "                </td>\n",
       "            </tr>\n",
       "            \n",
       "            <tr>\n",
       "    <td style=\"text-align: left;\"><strong>Status:</strong> running</td>\n",
       "    <td style=\"text-align: left;\"><strong>Using processes:</strong> True</td>\n",
       "</tr>\n",
       "\n",
       "            \n",
       "        </table>\n",
       "\n",
       "        <details>\n",
       "            <summary style=\"margin-bottom: 20px;\">\n",
       "                <h3 style=\"display: inline;\">Scheduler Info</h3>\n",
       "            </summary>\n",
       "\n",
       "            <div style=\"\">\n",
       "    <div>\n",
       "        <div style=\"width: 24px; height: 24px; background-color: #FFF7E5; border: 3px solid #FF6132; border-radius: 5px; position: absolute;\"> </div>\n",
       "        <div style=\"margin-left: 48px;\">\n",
       "            <h3 style=\"margin-bottom: 0px;\">Scheduler</h3>\n",
       "            <p style=\"color: #9D9D9D; margin-bottom: 0px;\">Scheduler-92442dff-c726-4776-9293-4a8ef7974419</p>\n",
       "            <table style=\"width: 100%; text-align: left;\">\n",
       "                <tr>\n",
       "                    <td style=\"text-align: left;\">\n",
       "                        <strong>Comm:</strong> tcp://127.0.0.1:54507\n",
       "                    </td>\n",
       "                    <td style=\"text-align: left;\">\n",
       "                        <strong>Workers:</strong> 4\n",
       "                    </td>\n",
       "                </tr>\n",
       "                <tr>\n",
       "                    <td style=\"text-align: left;\">\n",
       "                        <strong>Dashboard:</strong> <a href=\"http://127.0.0.1:8787/status\" target=\"_blank\">http://127.0.0.1:8787/status</a>\n",
       "                    </td>\n",
       "                    <td style=\"text-align: left;\">\n",
       "                        <strong>Total threads:</strong> 8\n",
       "                    </td>\n",
       "                </tr>\n",
       "                <tr>\n",
       "                    <td style=\"text-align: left;\">\n",
       "                        <strong>Started:</strong> Just now\n",
       "                    </td>\n",
       "                    <td style=\"text-align: left;\">\n",
       "                        <strong>Total memory:</strong> 16.00 GiB\n",
       "                    </td>\n",
       "                </tr>\n",
       "            </table>\n",
       "        </div>\n",
       "    </div>\n",
       "\n",
       "    <details style=\"margin-left: 48px;\">\n",
       "        <summary style=\"margin-bottom: 20px;\">\n",
       "            <h3 style=\"display: inline;\">Workers</h3>\n",
       "        </summary>\n",
       "\n",
       "        \n",
       "        <div style=\"margin-bottom: 20px;\">\n",
       "            <div style=\"width: 24px; height: 24px; background-color: #DBF5FF; border: 3px solid #4CC9FF; border-radius: 5px; position: absolute;\"> </div>\n",
       "            <div style=\"margin-left: 48px;\">\n",
       "            <details>\n",
       "                <summary>\n",
       "                    <h4 style=\"margin-bottom: 0px; display: inline;\">Worker: 0</h4>\n",
       "                </summary>\n",
       "                <table style=\"width: 100%; text-align: left;\">\n",
       "                    <tr>\n",
       "                        <td style=\"text-align: left;\">\n",
       "                            <strong>Comm: </strong> tcp://127.0.0.1:54518\n",
       "                        </td>\n",
       "                        <td style=\"text-align: left;\">\n",
       "                            <strong>Total threads: </strong> 2\n",
       "                        </td>\n",
       "                    </tr>\n",
       "                    <tr>\n",
       "                        <td style=\"text-align: left;\">\n",
       "                            <strong>Dashboard: </strong> <a href=\"http://127.0.0.1:54522/status\" target=\"_blank\">http://127.0.0.1:54522/status</a>\n",
       "                        </td>\n",
       "                        <td style=\"text-align: left;\">\n",
       "                            <strong>Memory: </strong> 4.00 GiB\n",
       "                        </td>\n",
       "                    </tr>\n",
       "                    <tr>\n",
       "                        <td style=\"text-align: left;\">\n",
       "                            <strong>Nanny: </strong> tcp://127.0.0.1:54510\n",
       "                        </td>\n",
       "                        <td style=\"text-align: left;\"></td>\n",
       "                    </tr>\n",
       "                    <tr>\n",
       "                        <td colspan=\"2\" style=\"text-align: left;\">\n",
       "                            <strong>Local directory: </strong> /Users/sarahj/repos/micro-dask-tutorial-widsPS22/notebooks/dask-worker-space/worker-apb2oxw8\n",
       "                        </td>\n",
       "                    </tr>\n",
       "\n",
       "                    \n",
       "\n",
       "                    \n",
       "\n",
       "                </table>\n",
       "            </details>\n",
       "            </div>\n",
       "        </div>\n",
       "        \n",
       "        <div style=\"margin-bottom: 20px;\">\n",
       "            <div style=\"width: 24px; height: 24px; background-color: #DBF5FF; border: 3px solid #4CC9FF; border-radius: 5px; position: absolute;\"> </div>\n",
       "            <div style=\"margin-left: 48px;\">\n",
       "            <details>\n",
       "                <summary>\n",
       "                    <h4 style=\"margin-bottom: 0px; display: inline;\">Worker: 1</h4>\n",
       "                </summary>\n",
       "                <table style=\"width: 100%; text-align: left;\">\n",
       "                    <tr>\n",
       "                        <td style=\"text-align: left;\">\n",
       "                            <strong>Comm: </strong> tcp://127.0.0.1:54519\n",
       "                        </td>\n",
       "                        <td style=\"text-align: left;\">\n",
       "                            <strong>Total threads: </strong> 2\n",
       "                        </td>\n",
       "                    </tr>\n",
       "                    <tr>\n",
       "                        <td style=\"text-align: left;\">\n",
       "                            <strong>Dashboard: </strong> <a href=\"http://127.0.0.1:54521/status\" target=\"_blank\">http://127.0.0.1:54521/status</a>\n",
       "                        </td>\n",
       "                        <td style=\"text-align: left;\">\n",
       "                            <strong>Memory: </strong> 4.00 GiB\n",
       "                        </td>\n",
       "                    </tr>\n",
       "                    <tr>\n",
       "                        <td style=\"text-align: left;\">\n",
       "                            <strong>Nanny: </strong> tcp://127.0.0.1:54511\n",
       "                        </td>\n",
       "                        <td style=\"text-align: left;\"></td>\n",
       "                    </tr>\n",
       "                    <tr>\n",
       "                        <td colspan=\"2\" style=\"text-align: left;\">\n",
       "                            <strong>Local directory: </strong> /Users/sarahj/repos/micro-dask-tutorial-widsPS22/notebooks/dask-worker-space/worker-wbfyzats\n",
       "                        </td>\n",
       "                    </tr>\n",
       "\n",
       "                    \n",
       "\n",
       "                    \n",
       "\n",
       "                </table>\n",
       "            </details>\n",
       "            </div>\n",
       "        </div>\n",
       "        \n",
       "        <div style=\"margin-bottom: 20px;\">\n",
       "            <div style=\"width: 24px; height: 24px; background-color: #DBF5FF; border: 3px solid #4CC9FF; border-radius: 5px; position: absolute;\"> </div>\n",
       "            <div style=\"margin-left: 48px;\">\n",
       "            <details>\n",
       "                <summary>\n",
       "                    <h4 style=\"margin-bottom: 0px; display: inline;\">Worker: 2</h4>\n",
       "                </summary>\n",
       "                <table style=\"width: 100%; text-align: left;\">\n",
       "                    <tr>\n",
       "                        <td style=\"text-align: left;\">\n",
       "                            <strong>Comm: </strong> tcp://127.0.0.1:54527\n",
       "                        </td>\n",
       "                        <td style=\"text-align: left;\">\n",
       "                            <strong>Total threads: </strong> 2\n",
       "                        </td>\n",
       "                    </tr>\n",
       "                    <tr>\n",
       "                        <td style=\"text-align: left;\">\n",
       "                            <strong>Dashboard: </strong> <a href=\"http://127.0.0.1:54528/status\" target=\"_blank\">http://127.0.0.1:54528/status</a>\n",
       "                        </td>\n",
       "                        <td style=\"text-align: left;\">\n",
       "                            <strong>Memory: </strong> 4.00 GiB\n",
       "                        </td>\n",
       "                    </tr>\n",
       "                    <tr>\n",
       "                        <td style=\"text-align: left;\">\n",
       "                            <strong>Nanny: </strong> tcp://127.0.0.1:54513\n",
       "                        </td>\n",
       "                        <td style=\"text-align: left;\"></td>\n",
       "                    </tr>\n",
       "                    <tr>\n",
       "                        <td colspan=\"2\" style=\"text-align: left;\">\n",
       "                            <strong>Local directory: </strong> /Users/sarahj/repos/micro-dask-tutorial-widsPS22/notebooks/dask-worker-space/worker-omb0u4s5\n",
       "                        </td>\n",
       "                    </tr>\n",
       "\n",
       "                    \n",
       "\n",
       "                    \n",
       "\n",
       "                </table>\n",
       "            </details>\n",
       "            </div>\n",
       "        </div>\n",
       "        \n",
       "        <div style=\"margin-bottom: 20px;\">\n",
       "            <div style=\"width: 24px; height: 24px; background-color: #DBF5FF; border: 3px solid #4CC9FF; border-radius: 5px; position: absolute;\"> </div>\n",
       "            <div style=\"margin-left: 48px;\">\n",
       "            <details>\n",
       "                <summary>\n",
       "                    <h4 style=\"margin-bottom: 0px; display: inline;\">Worker: 3</h4>\n",
       "                </summary>\n",
       "                <table style=\"width: 100%; text-align: left;\">\n",
       "                    <tr>\n",
       "                        <td style=\"text-align: left;\">\n",
       "                            <strong>Comm: </strong> tcp://127.0.0.1:54520\n",
       "                        </td>\n",
       "                        <td style=\"text-align: left;\">\n",
       "                            <strong>Total threads: </strong> 2\n",
       "                        </td>\n",
       "                    </tr>\n",
       "                    <tr>\n",
       "                        <td style=\"text-align: left;\">\n",
       "                            <strong>Dashboard: </strong> <a href=\"http://127.0.0.1:54525/status\" target=\"_blank\">http://127.0.0.1:54525/status</a>\n",
       "                        </td>\n",
       "                        <td style=\"text-align: left;\">\n",
       "                            <strong>Memory: </strong> 4.00 GiB\n",
       "                        </td>\n",
       "                    </tr>\n",
       "                    <tr>\n",
       "                        <td style=\"text-align: left;\">\n",
       "                            <strong>Nanny: </strong> tcp://127.0.0.1:54512\n",
       "                        </td>\n",
       "                        <td style=\"text-align: left;\"></td>\n",
       "                    </tr>\n",
       "                    <tr>\n",
       "                        <td colspan=\"2\" style=\"text-align: left;\">\n",
       "                            <strong>Local directory: </strong> /Users/sarahj/repos/micro-dask-tutorial-widsPS22/notebooks/dask-worker-space/worker-qoc40rvo\n",
       "                        </td>\n",
       "                    </tr>\n",
       "\n",
       "                    \n",
       "\n",
       "                    \n",
       "\n",
       "                </table>\n",
       "            </details>\n",
       "            </div>\n",
       "        </div>\n",
       "        \n",
       "\n",
       "    </details>\n",
       "</div>\n",
       "\n",
       "        </details>\n",
       "    </div>\n",
       "</div>\n",
       "            </details>\n",
       "        \n",
       "\n",
       "    </div>\n",
       "</div>"
      ],
      "text/plain": [
       "<Client: 'tcp://127.0.0.1:54507' processes=4 threads=8, memory=16.00 GiB>"
      ]
     },
     "execution_count": 3,
     "metadata": {},
     "output_type": "execute_result"
    }
   ],
   "source": [
    "client"
   ]
  },
  {
   "cell_type": "markdown",
   "id": "77b753f6-a4a8-488e-b39d-3a7587d84200",
   "metadata": {},
   "source": [
    "The __scheduler__ is the task manager, taking the task graph and sending tasks to the workers for execution (see the [overview in the Dask docs of all Dask schedulers](https://docs.dask.org/en/stable/scheduling.html)). The __client__ is the user-facing entry point for cluster users. The client lives where your Python code lives and communicates with the scheduler to pass along the tasks to be executed. The __workers__ do the actual computation and communicate back to to the scheduler if/when they are successful. For a deeper dive, see [the journey of a task in the Dask docs](https://distributed.dask.org/en/stable/journey.html).\n",
    "\n",
    "<div style=\"text-align: center;\">\n",
    "<img width=\"65%\" src=\"https://raw.githubusercontent.com/dask/marketing/main/source/images/distributed-overview.svg\" alt=\"Dask overview\">\n",
    "</div>"
   ]
  },
  {
   "cell_type": "markdown",
   "id": "057f7b63-6557-4056-b445-404242cbb640",
   "metadata": {},
   "source": [
    "Today we'll be using bicycle counter datasets from [Seattle's Open Data Portal](https://data.seattle.gov/). I've pre-selected a few locations that have more reliable counts: downtown (2nd Ave, north of Marion Street), Fremont Bridge, and Spokane St. Bridge.\n",
    "\n",
    "<figure>\n",
    "  <img src=\"../images/bike_counters_map.jpeg\"\n",
    "       width=50%\n",
    "     alt=\"Map of Seattle bicycle counters\">\n",
    "  <figcaption>Image by <a>http://www.seattle.gov/transportation/projects-and-programs/programs/bike-program/bike-counters</a></figcaption>\n",
    "</figure>"
   ]
  },
  {
   "cell_type": "markdown",
   "id": "a8a0f839-58f4-40cf-9237-422fa16f8b3e",
   "metadata": {},
   "source": [
    "We'll use the [Socrata Open Data (SODA) API](https://dev.socrata.com/) to get the bicycle counter data (see the [Socrata docs](https://dev.socrata.com/docs/verbs.html) for more information on REST APIs). Without Dask, data is commonly ingested by iterating over pages of results:"
   ]
  },
  {
   "cell_type": "code",
   "execution_count": 4,
   "id": "ce034220-419e-4382-9d89-572ccb794fc9",
   "metadata": {},
   "outputs": [
    {
     "data": {
      "text/plain": [
       "[{'date': '2020-03-01T00:00:00.000',\n",
       "  '_2nd_ave_cycletrack': '4',\n",
       "  'nb': '1',\n",
       "  'sb': '3'},\n",
       " {'date': '2020-03-01T01:00:00.000',\n",
       "  '_2nd_ave_cycletrack': '4',\n",
       "  'nb': '3',\n",
       "  'sb': '1'},\n",
       " {'date': '2020-03-01T02:00:00.000',\n",
       "  '_2nd_ave_cycletrack': '0',\n",
       "  'nb': '0',\n",
       "  'sb': '0'},\n",
       " {'date': '2020-03-01T03:00:00.000',\n",
       "  '_2nd_ave_cycletrack': '1',\n",
       "  'nb': '1',\n",
       "  'sb': '0'},\n",
       " {'date': '2020-03-01T04:00:00.000',\n",
       "  '_2nd_ave_cycletrack': '0',\n",
       "  'nb': '0',\n",
       "  'sb': '0'}]"
      ]
     },
     "execution_count": 4,
     "metadata": {},
     "output_type": "execute_result"
    }
   ],
   "source": [
    "dataset_dict = {\n",
    "    'downtown': 'avwm-i8ym',\n",
    "}\n",
    "\n",
    "with Socrata(\"data.seattle.gov\", socrata_token) as soda_client:\n",
    "    results = soda_client.get(dataset_dict['downtown'], limit=2000)\n",
    "\n",
    "results[:5]"
   ]
  },
  {
   "cell_type": "markdown",
   "id": "6f401ec5-aba0-4b87-b294-21e9e276ea87",
   "metadata": {
    "tags": []
   },
   "source": [
    "With Dask, we can use the **Delayed** collection to parallelize what would otherwise be a sequential for-loop. For more practice using Delayed to parallelize Python code, check out the [Dask Delayed Tutorial](https://github.com/dask/dask-tutorial/blob/main/01_dask.delayed.ipynb) and [this short screencast](https://www.youtube.com/watch?v=-EUlNJI2QYs). The syntax for rewriting this to return a delayed object would be:\n",
    "\n",
    "```python\n",
    "# without Dask                               # using Dask Delayed\n",
    "result = soda_client.get(                    lazy_result = dask.delayed(\n",
    "    dataset_dict['downtown'], limit=2000         soda_client.get\n",
    ")                                            )(dataset_dict['downtown'], limit=2000)\n",
    "```"
   ]
  },
  {
   "cell_type": "markdown",
   "id": "ace215df-4d27-47fd-b852-ba3d93ba10fa",
   "metadata": {
    "tags": []
   },
   "source": [
    "We'll define a couple functions to help us get results for all rows:"
   ]
  },
  {
   "cell_type": "code",
   "execution_count": 5,
   "id": "f29d3eac-25c9-4d30-8ee1-eec5b47a189b",
   "metadata": {
    "tags": []
   },
   "outputs": [],
   "source": [
    "def _get_num_rows(data_id):\n",
    "    \"\"\"Helper function to dynamically pull the total rows in a dataset.\"\"\"\n",
    "    metadata = soda_client.get_metadata(data_id)\n",
    "    num_rows = int(metadata['columns'][0]['cachedContents']['count'])\n",
    "    return num_rows\n",
    "\n",
    "def get_results(data_id, chunk_size=2000, offset=0):\n",
    "    \"\"\"Lazily gather all results for a dataset\"\"\"\n",
    "    num_rows = _get_num_rows(data_id)\n",
    "    num_chunks = math.ceil(num_rows / chunk_size)\n",
    "    results = []\n",
    "    for chunk in range(offset, num_chunks):\n",
    "        results.append(\n",
    "            dask.delayed(soda_client.get)(data_id, offset=offset, limit=chunk_size)\n",
    "        )\n",
    "        offset = offset + chunk_size\n",
    "\n",
    "    return results"
   ]
  },
  {
   "cell_type": "markdown",
   "id": "8643908d-d51d-41ec-b357-049bb2cc26f9",
   "metadata": {},
   "source": [
    "Now when we call `get_results` it will return a list of delayed objects that won't be evaluated until we need them"
   ]
  },
  {
   "cell_type": "code",
   "execution_count": 6,
   "id": "cbe07451-539e-4fac-af52-4d8d1b9b7c64",
   "metadata": {},
   "outputs": [],
   "source": [
    "with Socrata(\"data.seattle.gov\", socrata_token) as soda_client:\n",
    "    results = get_results(dataset_dict['downtown'], chunk_size=7000)"
   ]
  },
  {
   "cell_type": "code",
   "execution_count": 7,
   "id": "de10db86-d051-481d-a596-2ef63e479e80",
   "metadata": {},
   "outputs": [
    {
     "data": {
      "text/plain": [
       "[Delayed('get-373daf41-af16-4900-8a5e-76157058d04e'),\n",
       " Delayed('get-d6356efc-9e7e-479d-922d-26e01dc82eaa'),\n",
       " Delayed('get-a75aaaef-4ae7-4ee2-b918-877de56e931a'),\n",
       " Delayed('get-9c39ca13-b0c8-4666-892e-15f750776b11'),\n",
       " Delayed('get-2b8f0c98-10b9-4daa-9024-d48bb58e67d4'),\n",
       " Delayed('get-51881c3e-b741-4e7d-a5a1-8df6b79a546e'),\n",
       " Delayed('get-db131bdc-cedf-4e02-80d1-093e9f89e54b'),\n",
       " Delayed('get-08d81b30-848c-43bc-96e9-511279699033'),\n",
       " Delayed('get-c825ea5f-46fc-4949-9f2b-b93621cc7dc7'),\n",
       " Delayed('get-577faa14-ee97-4223-af76-633c28ab75dc')]"
      ]
     },
     "execution_count": 7,
     "metadata": {},
     "output_type": "execute_result"
    }
   ],
   "source": [
    "results"
   ]
  },
  {
   "cell_type": "code",
   "execution_count": 8,
   "id": "a1b9e09d-e7f6-4160-8c0d-5083b4f2b2bb",
   "metadata": {},
   "outputs": [
    {
     "data": {
      "image/png": "[encoded data removed]",
      "text/plain": [
       "<IPython.core.display.Image object>"
      ]
     },
     "execution_count": 8,
     "metadata": {},
     "output_type": "execute_result"
    }
   ],
   "source": [
    "dask.visualize(results)"
   ]
  },
  {
   "cell_type": "code",
   "execution_count": 9,
   "id": "58f5e3b8-00d4-490a-9f57-ca72d7135b6b",
   "metadata": {},
   "outputs": [
    {
     "data": {
      "text/plain": [
       "[{'date': '2020-03-01T00:00:00.000',\n",
       "  '_2nd_ave_cycletrack': '4',\n",
       "  'nb': '1',\n",
       "  'sb': '3'},\n",
       " {'date': '2020-03-01T01:00:00.000',\n",
       "  '_2nd_ave_cycletrack': '4',\n",
       "  'nb': '3',\n",
       "  'sb': '1'},\n",
       " {'date': '2020-03-01T02:00:00.000',\n",
       "  '_2nd_ave_cycletrack': '0',\n",
       "  'nb': '0',\n",
       "  'sb': '0'},\n",
       " {'date': '2020-03-01T03:00:00.000',\n",
       "  '_2nd_ave_cycletrack': '1',\n",
       "  'nb': '1',\n",
       "  'sb': '0'},\n",
       " {'date': '2020-03-01T04:00:00.000',\n",
       "  '_2nd_ave_cycletrack': '0',\n",
       "  'nb': '0',\n",
       "  'sb': '0'}]"
      ]
     },
     "execution_count": 9,
     "metadata": {},
     "output_type": "execute_result"
    }
   ],
   "source": [
    "results[0][:5].compute()"
   ]
  },
  {
   "cell_type": "markdown",
   "id": "44b92a30-c861-4dee-a803-4f97fe574fc7",
   "metadata": {},
   "source": [
    "Dask Delayed helped us parallelize the `get` function. Our data is *still* a list of dictionaries, though, which is not ideal for data manipulation. We'll use **Dask Bag** as an intermediary conversion step. Dask Bag is very helpful for pre-processing of text or JSON data. For more practice using Dask Bag, check out the [Dask Bag tutorial](https://github.com/dask/dask-tutorial/blob/main/02_bag.ipynb) and [this short screencast](https://www.youtube.com/watch?v=-qIiJ1XtSv0)."
   ]
  },
  {
   "cell_type": "code",
   "execution_count": 10,
   "id": "4ef2d596-4cd5-4280-a198-61a2f7cfa0be",
   "metadata": {},
   "outputs": [
    {
     "data": {
      "image/png": "[encoded data removed]",
      "text/plain": [
       "<IPython.core.display.Image object>"
      ]
     },
     "execution_count": 10,
     "metadata": {},
     "output_type": "execute_result"
    }
   ],
   "source": [
    "# import dask.bag as db\n",
    "\n",
    "db.from_delayed(results[0]).visualize()"
   ]
  },
  {
   "cell_type": "code",
   "execution_count": 11,
   "id": "038cd3ff-37b2-4454-9acf-6a8932a1eedc",
   "metadata": {},
   "outputs": [],
   "source": [
    "dask_bag = db.from_delayed(results)"
   ]
  },
  {
   "cell_type": "markdown",
   "id": "16b7bff6-947c-4881-bcd8-ebb3e7520047",
   "metadata": {},
   "source": [
    "And let's take a look at the first 3 elements:"
   ]
  },
  {
   "cell_type": "code",
   "execution_count": 12,
   "id": "b74d2556-e58f-4e43-b602-65d048a48ac4",
   "metadata": {},
   "outputs": [
    {
     "data": {
      "text/plain": [
       "({'date': '2020-03-01T00:00:00.000',\n",
       "  '_2nd_ave_cycletrack': '4',\n",
       "  'nb': '1',\n",
       "  'sb': '3'},\n",
       " {'date': '2020-03-01T01:00:00.000',\n",
       "  '_2nd_ave_cycletrack': '4',\n",
       "  'nb': '3',\n",
       "  'sb': '1'},\n",
       " {'date': '2020-03-01T02:00:00.000',\n",
       "  '_2nd_ave_cycletrack': '0',\n",
       "  'nb': '0',\n",
       "  'sb': '0'})"
      ]
     },
     "execution_count": 12,
     "metadata": {},
     "output_type": "execute_result"
    }
   ],
   "source": [
    "dask_bag.take(3)"
   ]
  },
  {
   "cell_type": "markdown",
   "id": "8ed699e7-b8b6-4c44-ae8c-9aeea875ca83",
   "metadata": {},
   "source": [
    "We'll now convert the Dask Bag into a **Dask DataFrame**:\n",
    "\n",
    "<figure>\n",
    "    <img src=\"https://raw.githubusercontent.com/dask/marketing/main/source/images/dask-dataframe.svg\" \n",
    "         width=\"50%\"\n",
    "         alt=\"Dask dataframe\">\n",
    "</figure>\n",
    "\n",
    "Dask DataFrames are partitioned along their index where each parition is a pandas DataFrame. These pandas objects may live on disk or on other machines. Dask DataFrame implements much of the pandas API which are backed by blocked algorithms that allow for parallel and out-of-core computation. For many purposes Dask DataFrames can serve as drop-in replacements for pandas DataFrames (see the complete [Dask DataFrame API](https://docs.dask.org/en/stable/dataframe-api.html)). For more practice with Dask DataFrame, check out the [Dask DataFrame Tutorial](https://github.com/dask/dask-tutorial/blob/main/04_dataframe.ipynb)"
   ]
  },
  {
   "cell_type": "code",
   "execution_count": 13,
   "id": "6831e9e9-29bd-458a-ace5-63506f39d394",
   "metadata": {},
   "outputs": [
    {
     "data": {
      "text/html": [
       "<div><strong>Dask DataFrame Structure:</strong></div>\n",
       "<div>\n",
       "<style scoped>\n",
       "    .dataframe tbody tr th:only-of-type {\n",
       "        vertical-align: middle;\n",
       "    }\n",
       "\n",
       "    .dataframe tbody tr th {\n",
       "        vertical-align: top;\n",
       "    }\n",
       "\n",
       "    .dataframe thead th {\n",
       "        text-align: right;\n",
       "    }\n",
       "</style>\n",
       "<table border=\"1\" class=\"dataframe\">\n",
       "  <thead>\n",
       "    <tr style=\"text-align: right;\">\n",
       "      <th></th>\n",
       "      <th>date</th>\n",
       "      <th>_2nd_ave_cycletrack</th>\n",
       "      <th>nb</th>\n",
       "      <th>sb</th>\n",
       "    </tr>\n",
       "    <tr>\n",
       "      <th>npartitions=10</th>\n",
       "      <th></th>\n",
       "      <th></th>\n",
       "      <th></th>\n",
       "      <th></th>\n",
       "    </tr>\n",
       "  </thead>\n",
       "  <tbody>\n",
       "    <tr>\n",
       "      <th></th>\n",
       "      <td>object</td>\n",
       "      <td>object</td>\n",
       "      <td>object</td>\n",
       "      <td>object</td>\n",
       "    </tr>\n",
       "    <tr>\n",
       "      <th></th>\n",
       "      <td>...</td>\n",
       "      <td>...</td>\n",
       "      <td>...</td>\n",
       "      <td>...</td>\n",
       "    </tr>\n",
       "    <tr>\n",
       "      <th>...</th>\n",
       "      <td>...</td>\n",
       "      <td>...</td>\n",
       "      <td>...</td>\n",
       "      <td>...</td>\n",
       "    </tr>\n",
       "    <tr>\n",
       "      <th></th>\n",
       "      <td>...</td>\n",
       "      <td>...</td>\n",
       "      <td>...</td>\n",
       "      <td>...</td>\n",
       "    </tr>\n",
       "    <tr>\n",
       "      <th></th>\n",
       "      <td>...</td>\n",
       "      <td>...</td>\n",
       "      <td>...</td>\n",
       "      <td>...</td>\n",
       "    </tr>\n",
       "  </tbody>\n",
       "</table>\n",
       "</div>\n",
       "<div>Dask Name: to_dataframe, 30 tasks</div>"
      ],
      "text/plain": [
       "Dask DataFrame Structure:\n",
       "                  date _2nd_ave_cycletrack      nb      sb\n",
       "npartitions=10                                            \n",
       "                object              object  object  object\n",
       "                   ...                 ...     ...     ...\n",
       "...                ...                 ...     ...     ...\n",
       "                   ...                 ...     ...     ...\n",
       "                   ...                 ...     ...     ...\n",
       "Dask Name: to_dataframe, 30 tasks"
      ]
     },
     "execution_count": 13,
     "metadata": {},
     "output_type": "execute_result"
    }
   ],
   "source": [
    "dask_bag.to_dataframe()"
   ]
  },
  {
   "cell_type": "code",
   "execution_count": 14,
   "id": "3bc8b749-323e-42a8-b678-1c00c3db0cdb",
   "metadata": {},
   "outputs": [
    {
     "data": {
      "text/html": [
       "<div>\n",
       "<style scoped>\n",
       "    .dataframe tbody tr th:only-of-type {\n",
       "        vertical-align: middle;\n",
       "    }\n",
       "\n",
       "    .dataframe tbody tr th {\n",
       "        vertical-align: top;\n",
       "    }\n",
       "\n",
       "    .dataframe thead th {\n",
       "        text-align: right;\n",
       "    }\n",
       "</style>\n",
       "<table border=\"1\" class=\"dataframe\">\n",
       "  <thead>\n",
       "    <tr style=\"text-align: right;\">\n",
       "      <th></th>\n",
       "      <th>date</th>\n",
       "      <th>_2nd_ave_cycletrack</th>\n",
       "      <th>nb</th>\n",
       "      <th>sb</th>\n",
       "    </tr>\n",
       "  </thead>\n",
       "  <tbody>\n",
       "    <tr>\n",
       "      <th>0</th>\n",
       "      <td>2020-03-01T00:00:00.000</td>\n",
       "      <td>4</td>\n",
       "      <td>1</td>\n",
       "      <td>3</td>\n",
       "    </tr>\n",
       "    <tr>\n",
       "      <th>1</th>\n",
       "      <td>2020-03-01T01:00:00.000</td>\n",
       "      <td>4</td>\n",
       "      <td>3</td>\n",
       "      <td>1</td>\n",
       "    </tr>\n",
       "    <tr>\n",
       "      <th>2</th>\n",
       "      <td>2020-03-01T02:00:00.000</td>\n",
       "      <td>0</td>\n",
       "      <td>0</td>\n",
       "      <td>0</td>\n",
       "    </tr>\n",
       "    <tr>\n",
       "      <th>3</th>\n",
       "      <td>2020-03-01T03:00:00.000</td>\n",
       "      <td>1</td>\n",
       "      <td>1</td>\n",
       "      <td>0</td>\n",
       "    </tr>\n",
       "    <tr>\n",
       "      <th>4</th>\n",
       "      <td>2020-03-01T04:00:00.000</td>\n",
       "      <td>0</td>\n",
       "      <td>0</td>\n",
       "      <td>0</td>\n",
       "    </tr>\n",
       "  </tbody>\n",
       "</table>\n",
       "</div>"
      ],
      "text/plain": [
       "                      date _2nd_ave_cycletrack nb sb\n",
       "0  2020-03-01T00:00:00.000                   4  1  3\n",
       "1  2020-03-01T01:00:00.000                   4  3  1\n",
       "2  2020-03-01T02:00:00.000                   0  0  0\n",
       "3  2020-03-01T03:00:00.000                   1  1  0\n",
       "4  2020-03-01T04:00:00.000                   0  0  0"
      ]
     },
     "execution_count": 14,
     "metadata": {},
     "output_type": "execute_result"
    }
   ],
   "source": [
    "dask_bag.to_dataframe().head()"
   ]
  },
  {
   "cell_type": "markdown",
   "id": "2bf72f5e-a1e3-46ea-bd17-0a35ba627c78",
   "metadata": {},
   "source": [
    "Let's put it all together and watch what happens in the dashboard, specifically the workers memory, task stream, and progress tabs (see the [Dashboard Diagnostics page in the Dask documentation](https://docs.dask.org/en/stable/dashboard.html))"
   ]
  },
  {
   "cell_type": "code",
   "execution_count": 15,
   "id": "782c16c4-db73-4d4e-bcfb-84616371b613",
   "metadata": {},
   "outputs": [],
   "source": [
    "dataset_dict = {\n",
    "    'downtown': 'avwm-i8ym',\n",
    "    'fremont': '65db-xm6k',\n",
    "    'spokane': 'upms-nr8w',\n",
    "}\n",
    "\n",
    "with Socrata(\"data.seattle.gov\", socrata_token) as soda_client:\n",
    "    downtown = get_results(dataset_dict['downtown'], chunk_size=7000)\n",
    "    fremont = get_results(dataset_dict['fremont'], chunk_size=7000)\n",
    "    spokane = get_results(dataset_dict['spokane'], chunk_size=7000)\n",
    "\n",
    "ddf = dd.concat([\n",
    "    # downtown, 2nd ave dataset\n",
    "    (db.from_delayed(downtown)\n",
    "     .to_dataframe()\n",
    "     .assign(location='downtown')\n",
    "     .rename(columns={'_2nd_ave_cycletrack': 'total'})),\n",
    "    # fremont bridge dataset\n",
    "    (db.from_delayed(fremont)\n",
    "     .to_dataframe()\n",
    "     .assign(location='fremont')\n",
    "     .rename(columns={'fremont_bridge': 'total'})),\n",
    "    # spokane street dataset\n",
    "    (db.from_delayed(spokane)\n",
    "     .to_dataframe()\n",
    "     .assign(location='spokane')\n",
    "     .rename(columns={'spokane_st_bridge_total': 'total'}))\n",
    "]).drop(\n",
    "    ['west', 'east', 'fremont_bridge_sb', 'fremont_bridge_nb', 'nb', 'sb'],\n",
    "    axis=1\n",
    ")\n",
    "\n",
    "# add some additional columns\n",
    "ddf['ds'] = dd.to_datetime(ddf['date'])\n",
    "ddf['y'] = dd.to_numeric(ddf['total'], errors='coerce')\n",
    "ddf['day_of_week'] = ddf['ds'].dt.day_of_week\n",
    "ddf['is_weekend'] = ddf['day_of_week'].apply(lambda x: True if x in [5, 6] else False, meta=('day_of_week', bool))"
   ]
  },
  {
   "cell_type": "markdown",
   "id": "69b40892-790f-407a-be8d-9693728ddb69",
   "metadata": {},
   "source": [
    "### What is the average number of cyclists per hour on weekends vs. weekdays?"
   ]
  },
  {
   "cell_type": "code",
   "execution_count": 16,
   "id": "333ad866-7733-4066-b5dc-4aec9737d323",
   "metadata": {},
   "outputs": [
    {
     "data": {
      "text/plain": [
       "location  is_weekend\n",
       "downtown  False          36.333772\n",
       "          True           14.489825\n",
       "fremont   False         127.869266\n",
       "          True           63.881852\n",
       "spokane   False          37.202372\n",
       "          True           21.737574\n",
       "Name: y, dtype: float64"
      ]
     },
     "execution_count": 16,
     "metadata": {},
     "output_type": "execute_result"
    }
   ],
   "source": [
    "ddf[ddf[\"y\"].notnull()].groupby([\"location\", \"is_weekend\"])[\"y\"].mean().compute()"
   ]
  },
  {
   "cell_type": "markdown",
   "id": "e1c197ed-2237-4cdf-938f-e99772c1af01",
   "metadata": {},
   "source": [
    "### Which days of the week have the highest and lowest average cyclists per hour?\n",
    "\n",
    "For this next computation, we'll try out a way to improve performance by sharing an intermediate operation across two `dask.compute` calls. For most operations, Dask DataFrame hashes the arguments, allowing duplicate operations to be shared, and only computed once. This is because the task graphs for both results are merged when calling `dask.compute`."
   ]
  },
  {
   "cell_type": "code",
   "execution_count": 17,
   "id": "533af8f3-066e-4a97-a8b1-2e44b0555cd7",
   "metadata": {},
   "outputs": [],
   "source": [
    "day_avg_lazy = ddf[ddf[\"y\"].notnull()].groupby([\"day_of_week\"])[\"y\"].mean()"
   ]
  },
  {
   "cell_type": "code",
   "execution_count": 18,
   "id": "74ae44b3-eb7f-458d-9067-99442875ccd0",
   "metadata": {},
   "outputs": [
    {
     "name": "stdout",
     "output_type": "stream",
     "text": [
      "1\n",
      "6\n"
     ]
    }
   ],
   "source": [
    "day_high, day_low = dask.compute(day_avg_lazy.idxmax(), day_avg_lazy.idxmin())\n",
    "print(day_high) # Tuesday is the highest\n",
    "print(day_low) # Sunday the lowest"
   ]
  },
  {
   "cell_type": "markdown",
   "id": "a19631e6-dd9d-42d1-81ad-61dbad9a8e04",
   "metadata": {},
   "source": [
    "You `dask.visualize(day_avg_lazy.idxmax(), day_avg_lazy.idxmin())` to see the resulting task graph and which operations are shared."
   ]
  },
  {
   "cell_type": "markdown",
   "id": "4361b9ef-8294-46ba-b3c6-56199213a846",
   "metadata": {},
   "source": [
    "# Time series forecasting with Prophet\n",
    "\n",
    "This example was adapted from the [Dask example on time series forecasting](https://examples.dask.org/applications/forecasting-with-prophet.htmlhttps://examples.dask.org/applications/forecasting-with-prophet.html). [Prophet](https://facebook.github.io/prophet/) is a \"a procedure for forecasting time series data based on an additive model where non-linear trends are fit with yearly, weekly, and daily seasonality\". To use the example below, first navigate to the `binder/environment.yml` file and uncomment the lines at the bottom of the file where it says `uncomment below to use Prophet package`."
   ]
  },
  {
   "cell_type": "code",
   "execution_count": 19,
   "id": "4a0b78ca-a7ff-4987-b30e-229362a8b9ed",
   "metadata": {},
   "outputs": [],
   "source": [
    "from prophet import Prophet\n",
    "import prophet.diagnostics"
   ]
  },
  {
   "cell_type": "markdown",
   "id": "bfbc3334-f8a9-4666-93f8-99bb8e14e442",
   "metadata": {},
   "source": [
    "The first few lines of code won't use Dask at all:"
   ]
  },
  {
   "cell_type": "code",
   "execution_count": 20,
   "id": "3c2c322a-cd01-49f5-a1a1-f26b6dc95d0c",
   "metadata": {},
   "outputs": [],
   "source": [
    "df = ddf[ddf['location'] == 'fremont'].compute()"
   ]
  },
  {
   "cell_type": "code",
   "execution_count": 21,
   "id": "f8108a8e-e67d-4b21-ba66-b4d07b670c87",
   "metadata": {},
   "outputs": [
    {
     "data": {
      "text/plain": [
       "<AxesSubplot:xlabel='ds'>"
      ]
     },
     "execution_count": 21,
     "metadata": {},
     "output_type": "execute_result"
    },
    {
     "data": {
      "image/png": "[encoded data removed]",
      "text/plain": [
       "<Figure size 432x288 with 1 Axes>"
      ]
     },
     "metadata": {
      "needs_background": "light"
     },
     "output_type": "display_data"
    }
   ],
   "source": [
    "df.plot(x='ds', y='y')"
   ]
  },
  {
   "cell_type": "code",
   "execution_count": 22,
   "id": "c7e9bc5e-6cac-459c-b72a-c00d4043a09b",
   "metadata": {},
   "outputs": [
    {
     "name": "stdout",
     "output_type": "stream",
     "text": [
      "Initial log joint probability = -1736.7\n",
      "CPU times: user 39.6 s, sys: 1.8 s, total: 41.4 s\n",
      "Wall time: 41.4 s\n"
     ]
    },
    {
     "data": {
      "text/plain": [
       "<prophet.forecaster.Prophet at 0x1604091c0>"
      ]
     },
     "execution_count": 22,
     "metadata": {},
     "output_type": "execute_result"
    },
    {
     "name": "stdout",
     "output_type": "stream",
     "text": [
      "    Iter      log prob        ||dx||      ||grad||       alpha      alpha0  # evals  Notes \n",
      "      99        293770   0.000568927        765.49      0.4887      0.4887      133   \n",
      "    Iter      log prob        ||dx||      ||grad||       alpha      alpha0  # evals  Notes \n",
      "     199        293813     0.0007342        1431.2       0.422       0.422      244   \n",
      "    Iter      log prob        ||dx||      ||grad||       alpha      alpha0  # evals  Notes \n",
      "     299        293826    0.00100134       322.193           1           1      360   \n",
      "    Iter      log prob        ||dx||      ||grad||       alpha      alpha0  # evals  Notes \n",
      "     399        293837    0.00110756       562.297           1           1      471   \n",
      "    Iter      log prob        ||dx||      ||grad||       alpha      alpha0  # evals  Notes \n",
      "     491        293838   1.99864e-05       238.052   1.132e-07       0.001      626  LS failed, Hessian reset \n",
      "     499        293838   2.40261e-05       112.197           1           1      634   \n",
      "    Iter      log prob        ||dx||      ||grad||       alpha      alpha0  # evals  Notes \n",
      "     599        293839   0.000203047       184.646       1.939      0.1939      758   \n",
      "    Iter      log prob        ||dx||      ||grad||       alpha      alpha0  # evals  Notes \n",
      "     674        293840   0.000116307       155.743           1           1      845   \n",
      "Optimization terminated normally: \n",
      "  Convergence detected: relative gradient magnitude is below tolerance\n"
     ]
    }
   ],
   "source": [
    "%%time\n",
    "m = Prophet()\n",
    "m.fit(df)"
   ]
  },
  {
   "cell_type": "code",
   "execution_count": 23,
   "id": "676e809d-8c55-4e1d-a042-e77379e546ba",
   "metadata": {},
   "outputs": [
    {
     "data": {
      "image/png": "[encoded data removed]",
      "text/plain": [
       "<Figure size 720x432 with 1 Axes>"
      ]
     },
     "metadata": {},
     "output_type": "display_data"
    }
   ],
   "source": [
    "future = m.make_future_dataframe(periods=365)\n",
    "forecast = m.predict(future)\n",
    "m.plot(forecast);"
   ]
  },
  {
   "cell_type": "markdown",
   "id": "53fec46a-f593-49d7-b75c-eeb5f27ce2cd",
   "metadata": {},
   "source": [
    "Dask isn't used at all in the above snippets, but where it really comes in handy is for cross validation, where simulated historical forecasts to provide some idea of a model’s quality. With the `parallel=\"dask\"` argument, we can run these models in parallel rather than serially:"
   ]
  },
  {
   "cell_type": "code",
   "execution_count": 24,
   "id": "800a47b1-2811-42c9-bdf2-cbd595c3b5cb",
   "metadata": {},
   "outputs": [
    {
     "name": "stderr",
     "output_type": "stream",
     "text": [
      "INFO:prophet:Making 14 forecasts with cutoffs between 2014-11-03 23:00:00 and 2021-03-31 23:00:00\n",
      "INFO:prophet:Applying in parallel with <Client: 'tcp://127.0.0.1:54507' processes=4 threads=8, memory=16.00 GiB>\n"
     ]
    },
    {
     "name": "stdout",
     "output_type": "stream",
     "text": [
      "Initial log joint probability = -547.821\n",
      "    Iter      log prob        ||dx||      ||grad||       alpha      alpha0  # evals  Notes \n",
      "      99       70057.7    0.00036299       378.513           1           1      130   \n",
      "    Iter      log prob        ||dx||      ||grad||       alpha      alpha0  # evals  Notes \n",
      "     135       70058.4   6.77696e-05       148.978   7.245e-07       0.001      222  LS failed, Hessian reset \n",
      "     199       70058.9    0.00012723       190.826           1           1      295   \n",
      "    Iter      log prob        ||dx||      ||grad||       alpha      alpha0  # evals  Notes \n",
      "     299       70059.5   0.000187227       126.544           1           1      418   \n",
      "    Iter      log prob        ||dx||      ||grad||       alpha      alpha0  # evals  Notes \n",
      "     324       70059.6   2.70576e-05       139.836   7.359e-08       0.001      489  LS failed, Hessian reset \n",
      "     399       70059.8   8.77548e-05       102.382           1           1      591   \n",
      "    Iter      log prob        ||dx||      ||grad||       alpha      alpha0  # evals  Notes \n",
      "     444         70060    3.4279e-05       235.642   1.198e-07       0.001      690  LS failed, Hessian reset \n",
      "     485         70060   4.27459e-05       148.126   4.542e-07       0.001      782  LS failed, Hessian reset \n",
      "     499         70060   1.20401e-05       73.1318      0.2154           1      800   \n",
      "    Iter      log prob        ||dx||      ||grad||       alpha      alpha0  # evals  Notes \n",
      "     502         70060   6.34382e-06       64.5804           1           1      805   \n",
      "Optimization terminated normally: \n",
      "  Convergence detected: relative gradient magnitude is below tolerance\n",
      "Initial log joint probability = -587.76\n",
      "    Iter      log prob        ||dx||      ||grad||       alpha      alpha0  # evals  Notes \n",
      "      99       87836.6   0.000426183       205.135      0.5223      0.5223      115   \n",
      "    Iter      log prob        ||dx||      ||grad||       alpha      alpha0  # evals  Notes \n",
      "     199       87838.2   0.000170712       181.691      0.3775           1      238   \n",
      "    Iter      log prob        ||dx||      ||grad||       alpha      alpha0  # evals  Notes \n",
      "     222       87838.4   1.57046e-05       115.589    5.78e-08       0.001      307  LS failed, Hessian reset \n",
      "     299         87839   0.000701164       635.071           1           1      396   \n",
      "    Iter      log prob        ||dx||      ||grad||       alpha      alpha0  # evals  Notes \n",
      "     375       87839.4   7.54394e-06       61.0642      0.7917      0.7917      494   \n",
      "Optimization terminated normally: \n",
      "  Convergence detected: relative gradient magnitude is below tolerance\n",
      "Initial log joint probability = -1393.13\n",
      "    Iter      log prob        ||dx||      ||grad||       alpha      alpha0  # evals  Notes \n",
      "Initial log joint probability = -1107.56\n",
      "    Iter      log prob        ||dx||      ||grad||       alpha      alpha0  # evals  Notes \n",
      "Initial log joint probability = -799.32\n",
      "    Iter      log prob        ||dx||      ||grad||       alpha      alpha0  # evals  Notes \n",
      "      99        102218    0.00125872       181.315       1.434      0.1434      128   \n",
      "    Iter      log prob        ||dx||      ||grad||       alpha      alpha0  # evals  Notes \n",
      "      99        134291   0.000716312       226.568      0.9573      0.9573      125   \n",
      "    Iter      log prob        ||dx||      ||grad||       alpha      alpha0  # evals  Notes \n",
      "      99        166049   0.000266195        1013.5           1           1      129   \n",
      "    Iter      log prob        ||dx||      ||grad||       alpha      alpha0  # evals  Notes \n",
      "     199        102219    0.00039498       123.232           1           1      244   \n",
      "    Iter      log prob        ||dx||      ||grad||       alpha      alpha0  # evals  Notes \n",
      "     134        134292   2.12473e-05       234.377   4.601e-08       0.001      210  LS failed, Hessian reset \n",
      "     299        102219   3.38371e-05       115.992           1           1      366   \n",
      "    Iter      log prob        ||dx||      ||grad||       alpha      alpha0  # evals  Notes \n",
      "     199        134293   7.43311e-05       160.391      0.6973      0.6973      290   \n",
      "    Iter      log prob        ||dx||      ||grad||       alpha      alpha0  # evals  Notes \n",
      "     199        166061    0.00108122       992.012      0.5084           1      248   \n",
      "    Iter      log prob        ||dx||      ||grad||       alpha      alpha0  # evals  Notes \n",
      "     399        102220   4.67654e-05       95.0501      0.8046      0.8046      493   \n",
      "    Iter      log prob        ||dx||      ||grad||       alpha      alpha0  # evals  Notes \n",
      "     293        134293   2.20997e-05       255.717   4.535e-08       0.001      444  LS failed, Hessian reset \n",
      "     299        166065   0.000903904       510.315      0.4594      0.4594      365   \n",
      "    Iter      log prob        ||dx||      ||grad||       alpha      alpha0  # evals  Notes \n",
      "     299        134293   0.000220914       94.3138           1           1      452   \n",
      "    Iter      log prob        ||dx||      ||grad||       alpha      alpha0  # evals  Notes \n",
      "     499        102220    8.4991e-06        72.168           1           1      614   \n",
      "    Iter      log prob        ||dx||      ||grad||       alpha      alpha0  # evals  Notes \n",
      "     599        102220    0.00032733       290.705      0.3547      0.3547      738   \n",
      "     337        166066   1.85218e-05       278.436   8.011e-08       0.001      460  LS failed, Hessian reset \n",
      "    Iter      log prob        ||dx||      ||grad||       alpha      alpha0  # evals  Notes \n",
      "     399        134293   4.32152e-05       116.174      0.2144      0.2144      578   \n",
      "    Iter      log prob        ||dx||      ||grad||       alpha      alpha0  # evals  Notes \n",
      "     619        102220   4.00341e-05       259.996   2.145e-07       0.001      797  LS failed, Hessian reset \n",
      "     399        166068    0.00123457       258.741           1           1      525   \n",
      "    Iter      log prob        ||dx||      ||grad||       alpha      alpha0  # evals  Notes \n",
      "     675        102220    1.9224e-05       168.939   1.224e-07       0.001      910  LS failed, Hessian reset \n",
      "     699        102220   7.59682e-05       69.2797           1           1      941   \n",
      "    Iter      log prob        ||dx||      ||grad||       alpha      alpha0  # evals  Notes \n",
      "     499        134294   1.19795e-05       143.726   1.289e-07       0.001      735  LS failed, Hessian reset \n",
      "    Iter      log prob        ||dx||      ||grad||       alpha      alpha0  # evals  Notes \n",
      "     510        134294   7.97957e-06       52.5148      0.4054           1      747   \n",
      "Optimization terminated normally: \n",
      "  Convergence detected: relative gradient magnitude is below tolerance\n",
      "Initial log joint probability = -1479.82\n",
      "    Iter      log prob        ||dx||      ||grad||       alpha      alpha0  # evals  Notes \n",
      "     499        166070   0.000201879       424.911           1           1      648   \n",
      "    Iter      log prob        ||dx||      ||grad||       alpha      alpha0  # evals  Notes \n",
      "     780        102220   4.26918e-05       205.827   6.001e-07       0.001     1093  LS failed, Hessian reset \n",
      "     799        102220   4.92587e-05        87.339           1           1     1113   \n",
      "    Iter      log prob        ||dx||      ||grad||       alpha      alpha0  # evals  Notes \n",
      "     812        102220   8.65899e-06       43.0046      0.2544           1     1129   \n",
      "Optimization terminated normally: \n",
      "  Convergence detected: relative gradient magnitude is below tolerance\n",
      "Initial log joint probability = -900.239\n",
      "    Iter      log prob        ||dx||      ||grad||       alpha      alpha0  # evals  Notes \n",
      "     513        166070   2.03614e-05       211.478   2.782e-07       0.001      711  LS failed, Hessian reset \n",
      "      99        183319    0.00286872       1288.25           1           1      128   \n",
      "    Iter      log prob        ||dx||      ||grad||       alpha      alpha0  # evals  Notes \n",
      "      99        119471    0.00023556       316.765      0.7793      0.7793      119   \n",
      "    Iter      log prob        ||dx||      ||grad||       alpha      alpha0  # evals  Notes \n",
      "     561        166071   4.79224e-05       132.681   5.543e-07       0.001      813  LS failed, Hessian reset \n",
      "     199        119472   0.000756369       218.365           1           1      236   \n",
      "    Iter      log prob        ||dx||      ||grad||       alpha      alpha0  # evals  Notes \n",
      "     581        166071   1.87241e-05       132.867    2.99e-08       0.001      887  LS failed, Hessian reset \n",
      "     199        183326    0.00117238       394.957           1           1      247   \n",
      "    Iter      log prob        ||dx||      ||grad||       alpha      alpha0  # evals  Notes \n",
      "     599        166071   0.000343837        281.55           1           1      911   \n",
      "    Iter      log prob        ||dx||      ||grad||       alpha      alpha0  # evals  Notes \n",
      "     299        119473   5.93448e-05       232.143      0.2318      0.2318      358   \n",
      "    Iter      log prob        ||dx||      ||grad||       alpha      alpha0  # evals  Notes \n",
      "     614        166071   8.67125e-06       140.993   8.192e-08       0.001      978  LS failed, Hessian reset \n",
      "     299        183328    0.00117605       313.913      0.7098      0.7098      368   \n",
      "    Iter      log prob        ||dx||      ||grad||       alpha      alpha0  # evals  Notes \n",
      "     699        166073   6.79223e-05        266.81      0.6178      0.6178     1076   \n",
      "    Iter      log prob        ||dx||      ||grad||       alpha      alpha0  # evals  Notes \n",
      "     395        119473   8.12087e-06       84.0546   4.618e-08       0.001      530  LS failed, Hessian reset \n",
      "     399        119473   7.74663e-05       74.9298           1           1      536   \n",
      "    Iter      log prob        ||dx||      ||grad||       alpha      alpha0  # evals  Notes \n",
      "     435        119473   6.21068e-06       80.7068      0.3581           1      578   \n",
      "Optimization terminated normally: \n",
      "  Convergence detected: relative gradient magnitude is below tolerance\n",
      "Initial log joint probability = -1764.65\n",
      "    Iter      log prob        ||dx||      ||grad||       alpha      alpha0  # evals  Notes \n",
      "     399        183332   0.000798802        116.17      0.1591           1      488   \n",
      "    Iter      log prob        ||dx||      ||grad||       alpha      alpha0  # evals  Notes \n",
      "     799        166074   0.000551063       159.191           1           1     1197   \n",
      "    Iter      log prob        ||dx||      ||grad||       alpha      alpha0  # evals  Notes \n",
      "     816        166074   5.61687e-05       389.884   5.775e-07       0.001     1261  LS failed, Hessian reset \n",
      "     839        166074   3.67843e-05       87.7991           1           1     1287   \n",
      "Optimization terminated normally: \n",
      "  Convergence detected: relative gradient magnitude is below tolerance\n",
      "Initial log joint probability = -1675.12\n",
      "    Iter      log prob        ||dx||      ||grad||       alpha      alpha0  # evals  Notes \n",
      "     499        183334   0.000102349       216.185       0.587       0.587      613   \n",
      "    Iter      log prob        ||dx||      ||grad||       alpha      alpha0  # evals  Notes \n",
      "      99        274918   0.000325219       1325.83           1           1      127   \n",
      "    Iter      log prob        ||dx||      ||grad||       alpha      alpha0  # evals  Notes \n",
      "     599        183336   0.000857908       192.659           1           1      734   \n",
      "    Iter      log prob        ||dx||      ||grad||       alpha      alpha0  # evals  Notes \n",
      "      99        196359    0.00166046       644.957           1           1      131   \n",
      "    Iter      log prob        ||dx||      ||grad||       alpha      alpha0  # evals  Notes \n",
      "     199        275000      0.013622       1802.89      0.1046           1      235   \n",
      "    Iter      log prob        ||dx||      ||grad||       alpha      alpha0  # evals  Notes \n",
      "     665        183336   4.04182e-05       72.3047      0.9146      0.9146      823   \n",
      "Optimization terminated normally: \n",
      "  Convergence detected: relative gradient magnitude is below tolerance\n",
      "Initial log joint probability = -1708.35\n",
      "    Iter      log prob        ||dx||      ||grad||       alpha      alpha0  # evals  Notes \n",
      "     199        196369    0.00647519       619.673           1           1      243   \n",
      "    Iter      log prob        ||dx||      ||grad||       alpha      alpha0  # evals  Notes \n",
      "     299        275035   0.000348078       1705.21      0.3127      0.9635      347   \n",
      "    Iter      log prob        ||dx||      ||grad||       alpha      alpha0  # evals  Notes \n",
      "     299        196375   0.000176047       430.496       0.628       0.628      358   \n",
      "    Iter      log prob        ||dx||      ||grad||       alpha      alpha0  # evals  Notes \n",
      "      99        266054     0.0114176        4358.7           1           1      123   \n",
      "    Iter      log prob        ||dx||      ||grad||       alpha      alpha0  # evals  Notes \n",
      "     399        196378    0.00732204       835.234           1           1      470   \n",
      "    Iter      log prob        ||dx||      ||grad||       alpha      alpha0  # evals  Notes \n",
      "     399        275048   0.000103789       783.075           1           1      460   \n",
      "    Iter      log prob        ||dx||      ||grad||       alpha      alpha0  # evals  Notes \n",
      "     199        266095   0.000690978       1293.58           1           1      234   \n",
      "    Iter      log prob        ||dx||      ||grad||       alpha      alpha0  # evals  Notes \n",
      "     464        196379   7.11415e-06       122.741   3.353e-08       0.001      597  LS failed, Hessian reset \n",
      "Optimization terminated normally: \n",
      "  Convergence detected: relative gradient magnitude is below tolerance\n",
      "Initial log joint probability = -1708.35\n",
      "    Iter      log prob        ||dx||      ||grad||       alpha      alpha0  # evals  Notes \n",
      "     499        275060    0.00336657        1086.1           1           1      572   \n",
      "    Iter      log prob        ||dx||      ||grad||       alpha      alpha0  # evals  Notes \n",
      "     299        266116    0.00174092       3496.22      0.2633      0.2633      350   \n",
      "    Iter      log prob        ||dx||      ||grad||       alpha      alpha0  # evals  Notes \n",
      "      99        212526    0.00227664       1861.87     0.09783           1      118   \n",
      "    Iter      log prob        ||dx||      ||grad||       alpha      alpha0  # evals  Notes \n",
      "     599        275066    0.00138579       308.443           1           1      684   \n",
      "    Iter      log prob        ||dx||      ||grad||       alpha      alpha0  # evals  Notes \n",
      "     399        266128    0.00132233       706.024           1           1      461   \n",
      "    Iter      log prob        ||dx||      ||grad||       alpha      alpha0  # evals  Notes \n",
      "     199        212536    0.00324144       1072.52      0.6277     0.06277      229   \n",
      "    Iter      log prob        ||dx||      ||grad||       alpha      alpha0  # evals  Notes \n",
      "     699        275071   0.000299465       409.529           1           1      798   \n",
      "    Iter      log prob        ||dx||      ||grad||       alpha      alpha0  # evals  Notes \n",
      "     499        266135   0.000709376       1850.08           1           1      575   \n",
      "    Iter      log prob        ||dx||      ||grad||       alpha      alpha0  # evals  Notes \n",
      "     299        212540    0.00066703       334.962      0.9528      0.9528      346   \n",
      "    Iter      log prob        ||dx||      ||grad||       alpha      alpha0  # evals  Notes \n",
      "     799        275074    0.00758967       1372.88      0.4077           1      903   \n",
      "    Iter      log prob        ||dx||      ||grad||       alpha      alpha0  # evals  Notes \n",
      "     399        212542   0.000306558       167.747      0.8629      0.8629      468   \n",
      "    Iter      log prob        ||dx||      ||grad||       alpha      alpha0  # evals  Notes \n",
      "     599        266139   0.000403702       426.839           1           1      691   \n",
      "    Iter      log prob        ||dx||      ||grad||       alpha      alpha0  # evals  Notes \n",
      "     455        212542   1.38418e-05         252.1   3.314e-08       0.001      584  LS failed, Hessian reset \n",
      "     899        275077    0.00121621        344.75           1           1     1021   \n",
      "    Iter      log prob        ||dx||      ||grad||       alpha      alpha0  # evals  Notes \n",
      "     699        266145    0.00167107       462.383           1           1      803   \n",
      "    Iter      log prob        ||dx||      ||grad||       alpha      alpha0  # evals  Notes \n",
      "     499        212543   0.000251778       260.033      0.6163      0.6163      634   \n",
      "    Iter      log prob        ||dx||      ||grad||       alpha      alpha0  # evals  Notes \n",
      "     983        275078   0.000374774       88.1623           1           1     1117   \n",
      "Optimization terminated normally: \n",
      "  Convergence detected: relative gradient magnitude is below tolerance\n",
      "     564        212543   3.58187e-05       79.7192           1           1      717   \n",
      "Optimization terminated normally: \n",
      "  Convergence detected: relative gradient magnitude is below tolerance\n",
      "Initial log joint probability = -1127.63\n",
      "    Iter      log prob        ||dx||      ||grad||       alpha      alpha0  # evals  Notes \n",
      "Initial log joint probability = -1602.28\n",
      "    Iter      log prob        ||dx||      ||grad||       alpha      alpha0  # evals  Notes \n",
      "     799        266147    0.00344627       792.369           1           1      921   \n",
      "    Iter      log prob        ||dx||      ||grad||       alpha      alpha0  # evals  Notes \n",
      "      99        152135    0.00018179       159.841      0.8816      0.8816      132   \n",
      "    Iter      log prob        ||dx||      ||grad||       alpha      alpha0  # evals  Notes \n",
      "      99        240427   0.000395628       421.536           1           1      133   \n",
      "    Iter      log prob        ||dx||      ||grad||       alpha      alpha0  # evals  Notes \n",
      "     199        152138   0.000288627       232.927      0.2648           1      250   \n",
      "    Iter      log prob        ||dx||      ||grad||       alpha      alpha0  # evals  Notes \n",
      "     869        266147   6.85742e-06       153.224   2.074e-08       0.001     1048  LS failed, Hessian reset \n",
      "Optimization terminated normally: \n",
      "  Convergence detected: relative gradient magnitude is below tolerance\n",
      "Initial log joint probability = -1744.85\n",
      "    Iter      log prob        ||dx||      ||grad||       alpha      alpha0  # evals  Notes \n",
      "     299        152139     0.0002833       162.818           1           1      372   \n",
      "    Iter      log prob        ||dx||      ||grad||       alpha      alpha0  # evals  Notes \n",
      "     199        240435    0.00127035       1447.76      0.5879      0.5879      243   \n",
      "    Iter      log prob        ||dx||      ||grad||       alpha      alpha0  # evals  Notes \n",
      "     399        152140   0.000361748       121.948      0.2475           1      484   \n",
      "    Iter      log prob        ||dx||      ||grad||       alpha      alpha0  # evals  Notes \n",
      "      99        256726    0.00144679       2198.51           1           1      124   \n",
      "    Iter      log prob        ||dx||      ||grad||       alpha      alpha0  # evals  Notes \n",
      "     299        240441   0.000203577       173.013           1           1      354   \n",
      "    Iter      log prob        ||dx||      ||grad||       alpha      alpha0  # evals  Notes \n",
      "     496        152140   2.11534e-05       248.866    1.35e-07       0.001      661  LS failed, Hessian reset \n",
      "     499        152140   4.25124e-05       181.208           1           1      664   \n",
      "    Iter      log prob        ||dx||      ||grad||       alpha      alpha0  # evals  Notes \n",
      "     199        256743    0.00062353       688.439      0.5244      0.5244      233   \n",
      "    Iter      log prob        ||dx||      ||grad||       alpha      alpha0  # evals  Notes \n",
      "     399        240443   7.80181e-05       402.182           1           1      464   \n",
      "    Iter      log prob        ||dx||      ||grad||       alpha      alpha0  # evals  Notes \n",
      "     581        152140   1.47557e-05       72.1545           1           1      769   \n",
      "Optimization terminated normally: \n",
      "  Convergence detected: relative gradient magnitude is below tolerance\n",
      "     299        256750   0.000121635       216.638      0.7096      0.7096      344   \n",
      "    Iter      log prob        ||dx||      ||grad||       alpha      alpha0  # evals  Notes \n",
      "     499        240446   0.000114517       190.693      0.8851      0.8851      585   \n",
      "    Iter      log prob        ||dx||      ||grad||       alpha      alpha0  # evals  Notes \n",
      "     399        256755    0.00350859       625.308           1           1      460   \n",
      "    Iter      log prob        ||dx||      ||grad||       alpha      alpha0  # evals  Notes \n",
      "     577        240447   1.54597e-05       338.895   2.288e-08       0.001      726  LS failed, Hessian reset \n",
      "     599        240447    0.00041434       677.497      0.7027      0.7027      750   \n",
      "    Iter      log prob        ||dx||      ||grad||       alpha      alpha0  # evals  Notes \n",
      "     499        256761   0.000439211       1305.93           1           1      575   \n",
      "    Iter      log prob        ||dx||      ||grad||       alpha      alpha0  # evals  Notes \n",
      "     599        256765   0.000437464       494.808           1           1      682   \n",
      "    Iter      log prob        ||dx||      ||grad||       alpha      alpha0  # evals  Notes \n",
      "     685        240448   5.08318e-06       132.365    3.29e-08       0.001      905  LS failed, Hessian reset \n",
      "Optimization terminated normally: \n",
      "  Convergence detected: relative gradient magnitude is below tolerance\n",
      "     699        256767    0.00082649       189.261           1           1      790   \n",
      "    Iter      log prob        ||dx||      ||grad||       alpha      alpha0  # evals  Notes \n",
      "     732        256767   0.000456197        64.057           1           1      829   \n",
      "Optimization terminated normally: \n",
      "  Convergence detected: relative gradient magnitude is below tolerance\n",
      "CPU times: user 16 s, sys: 2.44 s, total: 18.4 s\n",
      "Wall time: 3min 44s\n"
     ]
    }
   ],
   "source": [
    "%%time\n",
    "df_cv = prophet.diagnostics.cross_validation(\n",
    "    m, initial=\"730 days\", period=\"180 days\", horizon=\"365 days\",\n",
    "    parallel=\"dask\"\n",
    ");"
   ]
  },
  {
   "cell_type": "code",
   "execution_count": 25,
   "id": "2517bb7d-0bb4-4ffe-8953-918bccf62e15",
   "metadata": {},
   "outputs": [],
   "source": [
    "cluster.close()"
   ]
  },
  {
   "cell_type": "code",
   "execution_count": null,
   "id": "e3b45c75-758c-478b-8332-d5b8759cffcd",
   "metadata": {},
   "outputs": [],
   "source": []
  }
 ],
 "metadata": {
  "kernelspec": {
   "display_name": "Python 3 (ipykernel)",
   "language": "python",
   "name": "python3"
  },
  "language_info": {
   "codemirror_mode": {
    "name": "ipython",
    "version": 3
   },
   "file_extension": ".py",
   "mimetype": "text/x-python",
   "name": "python",
   "nbconvert_exporter": "python",
   "pygments_lexer": "ipython3",
   "version": "3.9.12"
  }
 },
 "nbformat": 4,
 "nbformat_minor": 5
}
