{
 "cells": [
  {
   "cell_type": "markdown",
   "id": "4647f274-5fca-420e-8e93-b0a74085a314",
   "metadata": {},
   "source": [
    "<center>\n",
    "  <img src=\"https://raw.githubusercontent.com/dask/marketing/main/source/images/dask-horizontal.svg\" alt=\"Dask logo\" width=55%/>\n",
    "</center>\n",
    "\n",
    "# Key Takeaways\n",
    "\n",
    "## What is Dask?\n",
    "\n",
    "Dask is a flexible, open source Python framework for parallel and distributed computing that:\n",
    "\n",
    "- Enables larger-than-memory computations.\n",
    "- Uses familiar APIs from projects like NumPy, pandas, and scikit-learn.\n",
    "- Offers built-in diagnosic tools.\n",
    "- Integrates natively with Python, benefiting from the guidance and influence of the larger developer community.\n",
    "- Works on your laptop and scales to many machines in a cluster (see [the docs on deploying Dask clusters](https://docs.dask.org/en/stable/deploying.html)).\n",
    "- Supports complex applications beyond embarrassingly parallel and map-shuffle-reduce computations\n",
    "- Has an active, welcoming community!\n",
    "\n",
    "__Don't use Dask if you don't need to!__\n",
    "Distributed computing brings a lot of additional complexity into the mix and will incur overhead. If your dataset and computations fit comfortably within your local resources this overhead may be larger than the potential performance gain. In that case, stick with non-distributed libraries like pandas, numpy and scikit-learn.\n",
    "\n",
    "## FAQs (and answers) from the field\n",
    "1) *When should I use Dask Delayed with other collections?*\n",
    "    - When possible, it's best to use functionality that already exists within a given collection. Not all equivalent methods have been implemented in Dask yet, though, so each collection has a built-in \"escape hatch\". For Dask DataFrame, this is `map_partitions` and for Dask Array, this is `map_blocks`. This is often the better path than reaching for Delayed first (see [this answer](https://dask.discourse.group/t/appropriate-way-of-np-apply-along-axis-in-dask/168/4) on Dask Discourse for more details).\n",
    "3) For the Dask DataFrame collection:\n",
    "    - *How should I be using `split_out` and `split_every`?* See [this reply](https://dask.discourse.group/t/doubts-related-dask-dataframe/297/2) on the Dask Discourse.\n",
    "    - *When should I repartition my dataset?* See [this answer](https://dask.discourse.group/t/when-to-repartition-if-the-data-is-not-computed/100/5) on the Dask Discourse\n",
    "3) *When should I use Dask Delayed vs. Futures?*\n",
    "    - The short answer (see [this reply](https://dask.discourse.group/t/different-scheduling-for-dask-delayed-and-dask-futures/545/2) on Dask Discourse) is that Futures is bundled with the [Distributed scheduler](https://distributed.dask.org/en/stable/) and gives finer control over some aspects of distributed computations, whereas Delayed is best suited for single-machine threaded computations. There is nuance in this discussion, though, see [this reply](https://dask.discourse.group/t/documentation-on-the-interplay-between-graphs-and-futures/269/2) on the Dask Discourse for more background.\n",
    "    \n",
    "## Resources\n",
    "\n",
    "Dask provides a friendly Python interface and visibility into computation via its dashboards and performance reports, but it can still be intimidating at first. Luckily, the [Dask docs](https://docs.dask.org) are extensive and have numerous [examples](https://examples.dask.org/) and [best practices](https://docs.dask.org/en/latest/best-practices.html). Plus, there is a welcoming community available to answer your questions on the [Dask Discourse](https://dask.discourse.group/)!\n",
    "\n",
    "## Join us!\n",
    "\n",
    "Looking to join the open source development community? Check out [these development guidelines](https://docs.dask.org/en/latest/develop.html#development-guidelines) and [this video tutorial from Women Who Code](https://youtu.be/eAIYrnguV8c) on how to get started in open source. Want to showcase a project you're working on using Dask? Share it on the [Dask Discourse](https://dask.discourse.group/c/showcase/13)!"
   ]
  },
  {
   "cell_type": "markdown",
   "id": "d9012eb1-823d-47ad-ba98-92f3b5fc8f58",
   "metadata": {},
   "source": [
    "<!-- <p>&nbsp;\n",
    "&nbsp;\n",
    "   </p>\n",
    "<div style=\"display:inline-block;vertical-align:top;\">\n",
    "    <img src=\"../coiled-logo.svg\" alt=\"Coild logo\" width=65%/>\n",
    "</div>\n",
    "<div style=\"display:inline-block;\">\n",
    "    <div>   &nbsp;  </div>\n",
    "    <div>And, taking my Dask hat off... <b><a href=\"https://coiled.io/careers/\">Coiled is hiring!</a></b></div>\n",
    "    <div>Coiled is a \"dask-as-a-service\" for using Dask clusters in the cloud.</div>\n",
    "    <div>Feel free to reach out to me directly on LinkedIn <a>https://www.linkedin.com/in/scharlottej13</a> if you have any questions.</div>\n",
    "</div> -->\n",
    "\n",
    "And, taking my Dask hat off... <b><a href=\"https://coiled.io/careers/\">Coiled is hiring!</a></b> Coiled is a \"dask-as-a-service\" for using Dask clusters in the cloud. Feel free to reach out to me directly on LinkedIn <a>https://www.linkedin.com/in/scharlottej13</a> if you have any questions."
   ]
  },
  {
   "cell_type": "markdown",
   "id": "571cafd6-ed5c-47d6-bac5-07b553b0c0ab",
   "metadata": {},
   "source": [
    "<img src=\"../exit-slide-wids22.svg\"\n",
    "     max_width=100%\n",
    "     height=auto\n",
    "     alt=\"WiDS title slide\" />"
   ]
  }
 ],
 "metadata": {
  "kernelspec": {
   "display_name": "Python 3 (ipykernel)",
   "language": "python",
   "name": "python3"
  },
  "language_info": {
   "codemirror_mode": {
    "name": "ipython",
    "version": 3
   },
   "file_extension": ".py",
   "mimetype": "text/x-python",
   "name": "python",
   "nbconvert_exporter": "python",
   "pygments_lexer": "ipython3",
   "version": "3.9.12"
  }
 },
 "nbformat": 4,
 "nbformat_minor": 5
}
