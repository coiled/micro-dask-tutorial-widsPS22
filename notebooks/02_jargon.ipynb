{
 "cells": [
  {
   "cell_type": "markdown",
   "id": "f1b0e083-c231-49fd-9376-ae9ecb12afe8",
   "metadata": {},
   "source": [
    "# How does Dask work?\n",
    "\n",
    "We can think of Dask at a high- and a low- level. Though different users operate at different levels, it is useful to understand both. The high-level colletions Array, Bag, and DataFrame mimic NumPy, lists, and pandas but can operate in parallel on datasets that don’t fit into memory. Dask’s high-level collections are alternatives to NumPy and pandas for large datasets. In addition to these high-level collections, Dask provides dynamic task schedulers; these execution engines power the high-level collections mentioned above, but can also power custom, user-defined workloads.\n",
    "\n",
    "<!-- https://towardsdatascience.com/the-beginners-guide-to-distributed-computing-6d6833796318 -->\n",
    "\n",
    "<figure>\n",
    "  <img src=\"https://raw.githubusercontent.com/dask/marketing/main/source/images/dask-overview.svg\" \n",
    "     width=\"75%\"\n",
    "     alt=\"Dask overview\">\n",
    "  <figcaption>In this workshop, we'll be focusing on the Dask DataFrame collection.</figcaption>\n",
    "</figure>\n",
    "\n",
    "# Basic Concepts\n",
    "\n",
    "The __scheduler__ is the task manager, taking the task graph and sending tasks to the workers for execution. We're going to use the Distributed scheduler because it's a bit more sophisticated and has an interactive performance dashboard, but you can read more on the [other Dask schedulers](https://docs.dask.org/en/stable/scheduling.html). The __client__ is the user-facing entry point for cluster users. The client lives where your Python code lives and communicates with the scheduler to pass along the tasks to be executed. The __workers__ do the actual computation and communicate back to to the scheduler if/when they are successful. For a deeper dive, see [the journey of a task in the Dask docs](https://distributed.dask.org/en/stable/journey.html).\n",
    "\n",
    "\n",
    "<figure>\n",
    "  <img src=\"https://raw.githubusercontent.com/dask/marketing/main/source/images/distributed-overview.svg\" \n",
    "     width=\"75%\"\n",
    "     alt=\"Dask overview\">\n",
    "<!--   <figcaption>In this workshop, we'll be focusing on the Dask DataFrame collection.</figcaption> -->\n",
    "</figure>\n"
   ]
  },
  {
   "cell_type": "code",
   "execution_count": null,
   "id": "f7b5ffa0-46f5-418d-b24b-a3e823b26b05",
   "metadata": {},
   "outputs": [],
   "source": []
  }
 ],
 "metadata": {
  "kernelspec": {
   "display_name": "Python 3 (ipykernel)",
   "language": "python",
   "name": "python3"
  },
  "language_info": {
   "codemirror_mode": {
    "name": "ipython",
    "version": 3
   },
   "file_extension": ".py",
   "mimetype": "text/x-python",
   "name": "python",
   "nbconvert_exporter": "python",
   "pygments_lexer": "ipython3",
   "version": "3.9.7"
  }
 },
 "nbformat": 4,
 "nbformat_minor": 5
}
